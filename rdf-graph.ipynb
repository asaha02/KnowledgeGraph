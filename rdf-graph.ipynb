{
 "cells": [
  {
   "cell_type": "code",
   "execution_count": 6,
   "metadata": {},
   "outputs": [],
   "source": [
    "import os\n",
    "groq_api_key = os.environ.get(\"GROQ_API_KEY\")\n",
    "#print(\"groq_api_key =\", groq_api_key)"
   ]
  },
  {
   "cell_type": "code",
   "execution_count": 7,
   "metadata": {},
   "outputs": [],
   "source": [
    "from langchain_groq import ChatGroq\n",
    "model=ChatGroq(model=\"Gemma2-9b-It\", groq_api_key=groq_api_key)\n"
   ]
  },
  {
   "cell_type": "code",
   "execution_count": 9,
   "metadata": {},
   "outputs": [],
   "source": [
    "system_prompt=\"\"\"\n",
    "Translate the following input text to an RDF graph using the RDF, RDFS, and OWL ontologies formatted as TTL.\n",
    "Use the prefix ex: with IRI <http://example.com/> for any created entities.\n",
    "Use the prefix xsd: with IRI <http://www.w3.org/2001/XMLSchema#> for any data types.\n",
    "Use the prefix owl: with IRI <http://www.w3.org/2002/07/owl#> for any owl: entities.\n",
    "Use the prefix rdf: with IRI <http://www.w3.org/1999/02/22-rdf-syntax-ns#> for any rdf: entities.\n",
    "Use the prefix rdfs: with IRI <http://www.w3.org/2000/01/rdf-schema#> for any rdfs: entities.\n",
    "\n",
    "Include all necessary prefixes in the output.\n",
    "Do not include any explanations or prose.\n",
    "Do not include any text other than the generated RDF graph.\n",
    "Do not include any additional information that is not explicitly requested.\n",
    "Do not include any information that is not relevant to the input text.\n",
    "Do not include any information that is not directly related to the input text.\n",
    "Do not include any backtics ttl or turtle in the output.\n",
    "\"\"\""
   ]
  },
  {
   "cell_type": "code",
   "execution_count": 10,
   "metadata": {},
   "outputs": [],
   "source": [
    "input_text=\"\"\"\n",
    "Elon Reeve Musk (born June 28, 1971) is a businessman and investor known for his key roles in space\n",
    "company SpaceX and automotive company Tesla, Inc. Other involvements include ownership of X Corp.\n",
    "formerly Twitter, and his role in the founding of The Boring Company, xAI, Neuralink and OpenAI.\n",
    "He is one of the wealthiest people in the world; as of July 2024, Forbes estimates his net worth to be\n",
    "US$221 billion.Musk was born in Pretoria to Maye and engineer Errol Musk, and briefly attended\n",
    "the University of Pretoria before immigrating to Canada at age 18, acquiring citizenship through\n",
    "his Canadian-born mother. Two years later, he matriculated at Queen's University at Kingston in Canada.\n",
    "Musk later transferred to the University of Pennsylvania and received bachelor's degrees in economics\n",
    "and physics. He moved to California in 1995 to attend Stanford University, but dropped out after\n",
    "two days and, with his brother Kimbal, co-founded online city guide software company Zip2.\n",
    "\n",
    "\"\"\""
   ]
  },
  {
   "cell_type": "code",
   "execution_count": 11,
   "metadata": {},
   "outputs": [],
   "source": [
    "from langchain_core.messages import HumanMessage, SystemMessage\n",
    "message1=[\n",
    "    SystemMessage(content=system_prompt),\n",
    "    HumanMessage(content=input_text)\n",
    "]"
   ]
  },
  {
   "cell_type": "code",
   "execution_count": 12,
   "metadata": {},
   "outputs": [],
   "source": [
    "from langchain_core.output_parsers import StrOutputParser\n",
    "parser=StrOutputParser()"
   ]
  },
  {
   "cell_type": "code",
   "execution_count": 15,
   "metadata": {},
   "outputs": [],
   "source": [
    "chain=model|parser\n",
    "output1=chain.invoke(message1)\n"
   ]
  },
  {
   "cell_type": "code",
   "execution_count": 16,
   "metadata": {},
   "outputs": [
    {
     "data": {
      "text/markdown": [
       "@prefix ex: <http://example.com/> .\n",
       "@prefix xsd: <http://www.w3.org/2001/XMLSchema#> .\n",
       "@prefix owl: <http://www.w3.org/2002/07/owl#> .\n",
       "@prefix rdf: <http://www.w3.org/1999/02/22-rdf-syntax-ns#> .\n",
       "@prefix rdfs: <http://www.w3.org/2000/01/rdf-schema#> .\n",
       "\n",
       "ex:ElonMusk rdf:type ex:Person ;\n",
       "    rdfs:label \"Elon Reeve Musk\" ;\n",
       "    ex:birthDate \"1971-06-28\"^^xsd:date ;\n",
       "    ex:knownFor ex:SpaceX , ex:Tesla ;\n",
       "    ex:hasParent ex:MayeMusk ;\n",
       "    ex:hasParent ex:ErrolMusk ;\n",
       "    ex:attendedUniversity ex:UniversityOfPretoria ;\n",
       "    ex:attendedUniversity ex:QueensUniversity ;\n",
       "    ex:attendedUniversity ex:UniversityOfPennsylvania ;\n",
       "    ex:attendedUniversity ex:StanfordUniversity ;\n",
       "    ex:founded ex:TheBoringCompany , ex:xAI , ex:Neuralink , ex:OpenAI ;\n",
       "    ex:owns ex:XCorp .\n",
       "\n",
       "ex:Person rdfs:subClassOf owl:Thing .\n",
       "ex:SpaceX rdf:type ex:Company ;\n",
       "    rdfs:label \"SpaceX\" .\n",
       "ex:Tesla rdf:type ex:Company ;\n",
       "    rdfs:label \"Tesla, Inc.\" .\n",
       "ex:XCorp rdf:type ex:Company ;\n",
       "    rdfs:label \"X Corp.\" ;\n",
       "    ex:wasFormerly ex:Twitter .\n",
       "ex:TheBoringCompany rdf:type ex:Company ;\n",
       "    rdfs:label \"The Boring Company\" .\n",
       "ex:xAI rdf:type ex:Company ;\n",
       "    rdfs:label \"xAI\" .\n",
       "ex:Neuralink rdf:type ex:Company ;\n",
       "    rdfs:label \"Neuralink\" .\n",
       "ex:OpenAI rdf:type ex:Company ;\n",
       "    rdfs:label \"OpenAI\" .\n",
       "ex:Twitter rdf:type ex:Company ;\n",
       "    rdfs:label \"Twitter\" .\n",
       "ex:MayeMusk rdf:type ex:Person ;\n",
       "    rdfs:label \"Maye Musk\" .\n",
       "ex:ErrolMusk rdf:type ex:Person ;\n",
       "    rdfs:label \"Errol Musk\" ;\n",
       "    rdf:type ex:Engineer .\n",
       "ex:KimbalMusk rdf:type ex:Person ;\n",
       "    rdfs:label \"Kimbal Musk\" .\n",
       "ex:UniversityOfPretoria rdf:type ex:University ;\n",
       "    rdfs:label \"University of Pretoria\" .\n",
       "ex:QueensUniversity rdf:type ex:University ;\n",
       "    rdfs:label \"Queen's University at Kingston\" .\n",
       "ex:UniversityOfPennsylvania rdf:type ex:University ;\n",
       "    rdfs:label \"University of Pennsylvania\" .\n",
       "ex:StanfordUniversity rdf:type ex:University ;\n",
       "    rdfs:label \"Stanford University\" .\n",
       "ex:Zip2 rdf:type ex:Company ;\n",
       "    rdfs:label \"Zip2\" ;\n",
       "    ex:foundedBy ex:ElonMusk , ex:KimbalMusk .\n",
       "\n",
       "\n",
       "\n"
      ],
      "text/plain": [
       "<IPython.core.display.Markdown object>"
      ]
     },
     "metadata": {},
     "output_type": "display_data"
    }
   ],
   "source": [
    "from IPython.display import display, Markdown\n",
    "display(Markdown(output1))"
   ]
  },
  {
   "cell_type": "code",
   "execution_count": 17,
   "metadata": {},
   "outputs": [],
   "source": [
    "with open(\"Output1.ttl\", \"w\") as ttl_file:\n",
    "    ttl_file.write(output1)"
   ]
  },
  {
   "cell_type": "code",
   "execution_count": 8,
   "metadata": {},
   "outputs": [],
   "source": [
    "from langchain_community.graphs import RdfGraph\n",
    "graph = RdfGraph (\n",
    "    source_file=\"Output1.ttl\",\n",
    "    standard=\"rdf\",\n",
    ")"
   ]
  },
  {
   "cell_type": "code",
   "execution_count": 9,
   "metadata": {},
   "outputs": [],
   "source": [
    "graph.load_schema()\n",
    "schema=graph.get_schema"
   ]
  },
  {
   "cell_type": "code",
   "execution_count": 10,
   "metadata": {},
   "outputs": [],
   "source": [
    "sparql_generation_template=\"\"\"\n",
    "Write a SPARQL SELECT query for quering a rdf graph.\n",
    "The query should retrieve the following information based on the given schema and question.\n",
    "{schema}\n",
    "\n",
    "Based on the above schema, write a SPARQL query that answers the following question:\n",
    "{prompt}\n",
    "\n",
    "Use only the classes and properties provided in the schema to construct the SPARQL query.\n",
    "Do not use any classes and properties that are not explicitly provided in the SPARQL query.\n",
    "Include all necessary prefixes.\n",
    "Do not wrap the SPARQL query in triple backticks.\n",
    "Do not include any text except the SPARQL query generated.\n",
    "\n",
    "\"\"\""
   ]
  },
  {
   "cell_type": "code",
   "execution_count": 11,
   "metadata": {},
   "outputs": [],
   "source": [
    "from langchain.prompts import PromptTemplate\n",
    "sparql_select_prompt=PromptTemplate(template=sparql_generation_template, input_variables=[\"schema\",\"prompt\"])"
   ]
  },
  {
   "cell_type": "code",
   "execution_count": 12,
   "metadata": {},
   "outputs": [],
   "source": [
    "from langchain.prompts import PromptTemplate\n",
    "\n",
    "qa_prompt_template=\"\"\"\n",
    "Generate a natural language response from the results of a SPARQL query.\n",
    "Don't add any additional information.\n",
    "Don't use internal knowledge to answer the question, just say you don't know if no information is available.\n",
    "Information:\n",
    "{context}\n",
    "\n",
    "Question: {prompt}\n",
    "\n",
    "Helpful Answer:\n",
    "\"\"\"\n",
    "qa_prompt=PromptTemplate(template=qa_prompt_template, input_variables=[\"context\",\"prompt\"])"
   ]
  },
  {
   "cell_type": "code",
   "execution_count": 22,
   "metadata": {},
   "outputs": [],
   "source": [
    "from langchain.chains import GraphSparqlQAChain\n",
    "\n",
    "chain = GraphSparqlQAChain.from_llm(\n",
    "    model, \n",
    "    graph=graph, \n",
    "    verbose=False, \n",
    "    return_sparql_query=True, \n",
    "    qa_prompt=qa_prompt, \n",
    "    sparql_select_prompt=sparql_select_prompt,\n",
    "    allow_dangerous_requests=True,\n",
    ")"
   ]
  },
  {
   "cell_type": "code",
   "execution_count": 28,
   "metadata": {},
   "outputs": [
    {
     "name": "stdout",
     "output_type": "stream",
     "text": [
      "SQARQL query: PREFIX rdf: <http://www.w3.org/1999/02/22-rdf-syntax-ns#>\n",
      "PREFIX rdfs: <http://www.w3.org/2000/01/rdf-schema#>\n",
      "PREFIX ex: <http://example.com/>\n",
      "\n",
      "SELECT ?fatherName\n",
      "WHERE {\n",
      "  ex:ElonMusk ex:hasParent ?father .\n",
      "  ?father rdfs:label ?fatherName .\n",
      "} \n",
      "\n",
      "Final answer: Errol Musk \n",
      "\n"
     ]
    }
   ],
   "source": [
    "result = chain.invoke(\n",
    "    input = {\n",
    "        'schema': schema,\n",
    "        'context': 'aswer from provided graph',\n",
    "        'query': \"What is Elon Musk's father name?\"\n",
    "    }\n",
    ")\n",
    "\n",
    "print(f\"SQARQL query: {result['sparql_query']}\")\n",
    "print(f\"Final answer: {result['result']}\")"
   ]
  }
 ],
 "metadata": {
  "kernelspec": {
   "display_name": ".venv",
   "language": "python",
   "name": "python3"
  },
  "language_info": {
   "codemirror_mode": {
    "name": "ipython",
    "version": 3
   },
   "file_extension": ".py",
   "mimetype": "text/x-python",
   "name": "python",
   "nbconvert_exporter": "python",
   "pygments_lexer": "ipython3",
   "version": "3.12.1"
  }
 },
 "nbformat": 4,
 "nbformat_minor": 2
}
